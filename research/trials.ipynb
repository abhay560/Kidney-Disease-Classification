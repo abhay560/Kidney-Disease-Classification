{
 "cells": [
  {
   "cell_type": "code",
   "execution_count": 3,
   "id": "e025482f",
   "metadata": {},
   "outputs": [],
   "source": [
    "# Download the dataset from google drive\n"
   ]
  },
  {
   "cell_type": "code",
   "execution_count": 4,
   "id": "0d84764e",
   "metadata": {},
   "outputs": [],
   "source": [
    "import gdown\n",
    "\n",
    "url = 'https://drive.google.com/file/d/1prK7BFC7UgLg1yKNiLB4-CvOlPZzycbN/view?usp=sharing'"
   ]
  },
  {
   "cell_type": "code",
   "execution_count": 7,
   "id": "905cbe34",
   "metadata": {},
   "outputs": [],
   "source": [
    "file_id = url.split('/')[-2]"
   ]
  },
  {
   "cell_type": "code",
   "execution_count": 9,
   "id": "077ed140",
   "metadata": {},
   "outputs": [
    {
     "name": "stderr",
     "output_type": "stream",
     "text": [
      "Downloading...\n",
      "From (original): https://drive.google.com/uc?export=download&id=1prK7BFC7UgLg1yKNiLB4-CvOlPZzycbN\n",
      "From (redirected): https://drive.google.com/uc?export=download&id=1prK7BFC7UgLg1yKNiLB4-CvOlPZzycbN&confirm=t&uuid=bb87d2e0-e769-41d9-a887-b3059984eea7\n",
      "To: c:\\Users\\abhay\\Desktop\\ML Project\\Kidney-Disease-Classification\\research\\kidney-CT-Scan-data.zip\n",
      "100%|██████████| 57.7M/57.7M [00:05<00:00, 10.4MB/s]\n"
     ]
    },
    {
     "data": {
      "text/plain": [
       "'kidney-CT-Scan-data.zip'"
      ]
     },
     "execution_count": 9,
     "metadata": {},
     "output_type": "execute_result"
    }
   ],
   "source": [
    "prefix = 'https://drive.google.com/uc?export=download&id='\n",
    "\n",
    "gdown.download(prefix + file_id, 'kidney-CT-Scan-data.zip')"
   ]
  },
  {
   "cell_type": "code",
   "execution_count": null,
   "id": "594ac8c7",
   "metadata": {},
   "outputs": [],
   "source": []
  }
 ],
 "metadata": {
  "kernelspec": {
   "display_name": "textS",
   "language": "python",
   "name": "python3"
  },
  "language_info": {
   "codemirror_mode": {
    "name": "ipython",
    "version": 3
   },
   "file_extension": ".py",
   "mimetype": "text/x-python",
   "name": "python",
   "nbconvert_exporter": "python",
   "pygments_lexer": "ipython3",
   "version": "3.9.23"
  }
 },
 "nbformat": 4,
 "nbformat_minor": 5
}
